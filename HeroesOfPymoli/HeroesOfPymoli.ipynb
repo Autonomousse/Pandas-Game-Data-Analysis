{
 "cells": [
  {
   "cell_type": "code",
   "execution_count": 16,
   "metadata": {},
   "outputs": [
    {
     "output_type": "execute_result",
     "data": {
      "text/plain": "   Purchase ID             SN  Age Gender  Item ID  \\\n0            0        Lisim78   20   Male      108   \n1            1    Lisovynya38   40   Male      143   \n2            2     Ithergue48   24   Male       92   \n3            3  Chamassasya86   24   Male      100   \n4            4      Iskosia90   23   Male      131   \n\n                                   Item Name  Price  \n0  Extraction, Quickblade Of Trembling Hands   3.53  \n1                          Frenzied Scimitar   1.56  \n2                               Final Critic   4.88  \n3                                Blindscythe   3.27  \n4                                       Fury   1.44  ",
      "text/html": "<div>\n<style scoped>\n    .dataframe tbody tr th:only-of-type {\n        vertical-align: middle;\n    }\n\n    .dataframe tbody tr th {\n        vertical-align: top;\n    }\n\n    .dataframe thead th {\n        text-align: right;\n    }\n</style>\n<table border=\"1\" class=\"dataframe\">\n  <thead>\n    <tr style=\"text-align: right;\">\n      <th></th>\n      <th>Purchase ID</th>\n      <th>SN</th>\n      <th>Age</th>\n      <th>Gender</th>\n      <th>Item ID</th>\n      <th>Item Name</th>\n      <th>Price</th>\n    </tr>\n  </thead>\n  <tbody>\n    <tr>\n      <th>0</th>\n      <td>0</td>\n      <td>Lisim78</td>\n      <td>20</td>\n      <td>Male</td>\n      <td>108</td>\n      <td>Extraction, Quickblade Of Trembling Hands</td>\n      <td>3.53</td>\n    </tr>\n    <tr>\n      <th>1</th>\n      <td>1</td>\n      <td>Lisovynya38</td>\n      <td>40</td>\n      <td>Male</td>\n      <td>143</td>\n      <td>Frenzied Scimitar</td>\n      <td>1.56</td>\n    </tr>\n    <tr>\n      <th>2</th>\n      <td>2</td>\n      <td>Ithergue48</td>\n      <td>24</td>\n      <td>Male</td>\n      <td>92</td>\n      <td>Final Critic</td>\n      <td>4.88</td>\n    </tr>\n    <tr>\n      <th>3</th>\n      <td>3</td>\n      <td>Chamassasya86</td>\n      <td>24</td>\n      <td>Male</td>\n      <td>100</td>\n      <td>Blindscythe</td>\n      <td>3.27</td>\n    </tr>\n    <tr>\n      <th>4</th>\n      <td>4</td>\n      <td>Iskosia90</td>\n      <td>23</td>\n      <td>Male</td>\n      <td>131</td>\n      <td>Fury</td>\n      <td>1.44</td>\n    </tr>\n  </tbody>\n</table>\n</div>"
     },
     "metadata": {},
     "execution_count": 16
    }
   ],
   "source": [
    "# Dependencies and Setup\n",
    "import pandas as pd\n",
    "\n",
    "# File to Load (Remember to Change These)\n",
    "file_to_load = \"Resources/purchase_data.csv\"\n",
    "\n",
    "# Read Purchase File and store into Pandas data frame\n",
    "purchase_data = pd.read_csv(file_to_load)\n",
    "\n",
    "# Use the head() function to display column headers and the first 5 rows\n",
    "purchase_data.head()"
   ]
  },
  {
   "cell_type": "markdown",
   "metadata": {},
   "source": [
    "## Player Count\n",
    " * Display the total number of players"
   ]
  },
  {
   "cell_type": "code",
   "execution_count": 17,
   "metadata": {},
   "outputs": [
    {
     "output_type": "execute_result",
     "data": {
      "text/plain": "   Total Players\n0            576",
      "text/html": "<div>\n<style scoped>\n    .dataframe tbody tr th:only-of-type {\n        vertical-align: middle;\n    }\n\n    .dataframe tbody tr th {\n        vertical-align: top;\n    }\n\n    .dataframe thead th {\n        text-align: right;\n    }\n</style>\n<table border=\"1\" class=\"dataframe\">\n  <thead>\n    <tr style=\"text-align: right;\">\n      <th></th>\n      <th>Total Players</th>\n    </tr>\n  </thead>\n  <tbody>\n    <tr>\n      <th>0</th>\n      <td>576</td>\n    </tr>\n  </tbody>\n</table>\n</div>"
     },
     "metadata": {},
     "execution_count": 17
    }
   ],
   "source": [
    "# Use the screen name column (SN) to find the number of unique players. Count would not work because players could make more than one purchase\n",
    "# Use len() to get the length of the list\n",
    "total_unique_players = len(purchase_data[\"SN\"].unique())\n",
    "\n",
    "# Create a new dataframe to display the number of total players\n",
    "total_players_df = pd.DataFrame([total_unique_players], columns = [\"Total Players\"])\n",
    "total_players_df"
   ]
  },
  {
   "cell_type": "markdown",
   "metadata": {},
   "source": [
    "## Purchasing Analysis (Total)\n",
    " * Run basic calculations to obtain number of: \n",
    "    * Number of Unique Items\n",
    "    * Average Purchase Price\n",
    "    * Total Number of Purchases\n",
    "    * Total Revenue\n",
    "\n",
    "* Create a summary data frame to hold the results\n",
    "\n",
    "\n",
    "* Optional: give the displayed data cleaner formatting\n",
    "\n",
    "\n",
    "* Display the summary data frame"
   ]
  },
  {
   "cell_type": "code",
   "execution_count": 18,
   "metadata": {
    "tags": []
   },
   "outputs": [
    {
     "output_type": "execute_result",
     "data": {
      "text/plain": "   Number of Unique Items Average Price  Number of Purchases Total Revenue\n0                     179         $3.05                  780     $2,379.77",
      "text/html": "<div>\n<style scoped>\n    .dataframe tbody tr th:only-of-type {\n        vertical-align: middle;\n    }\n\n    .dataframe tbody tr th {\n        vertical-align: top;\n    }\n\n    .dataframe thead th {\n        text-align: right;\n    }\n</style>\n<table border=\"1\" class=\"dataframe\">\n  <thead>\n    <tr style=\"text-align: right;\">\n      <th></th>\n      <th>Number of Unique Items</th>\n      <th>Average Price</th>\n      <th>Number of Purchases</th>\n      <th>Total Revenue</th>\n    </tr>\n  </thead>\n  <tbody>\n    <tr>\n      <th>0</th>\n      <td>179</td>\n      <td>$3.05</td>\n      <td>780</td>\n      <td>$2,379.77</td>\n    </tr>\n  </tbody>\n</table>\n</div>"
     },
     "metadata": {},
     "execution_count": 18
    }
   ],
   "source": [
    "# Use the item name column (Item Name) to find the number of unique items with the unique() function\n",
    "# Use len() to get the length of the list\n",
    "unique_items = len(purchase_data[\"Item Name\"].unique())\n",
    "\n",
    "# Use the count() function to get the total number of purchases\n",
    "number_of_purchases = purchase_data[\"Price\"].count()\n",
    "\n",
    "# Calculate the total_revenue by using the sum() function on the price column (Price)\n",
    "total_revenue = purchase_data[\"Price\"].sum()\n",
    "\n",
    "# Calculate the average purchase price by dividing total_revenue by number_of_purchases\n",
    "average_purchase_price = purchase_data[\"Price\"].mean()\n",
    "\n",
    "# Create a data frame to display findings\n",
    "purchase_summary_df = pd.DataFrame({\"Number of Unique Items\" : [unique_items],\n",
    "                                    \"Average Price\" : average_purchase_price,\n",
    "                                    \"Number of Purchases\" : number_of_purchases,\n",
    "                                    \"Total Revenue\" : total_revenue})\n",
    "\n",
    "# Format the data for cleaner appearance\n",
    "purchase_summary_df[\"Average Price\"] = purchase_summary_df[\"Average Price\"].map(\"${:,.2f}\".format)\n",
    "purchase_summary_df[\"Total Revenue\"] = purchase_summary_df[\"Total Revenue\"].map(\"${:,.2f}\".format)\n",
    "\n",
    "# Display the summary table\n",
    "purchase_summary_df\n"
   ]
  },
  {
   "cell_type": "markdown",
   "metadata": {},
   "source": [
    "## Gender Demographics\n",
    "\n",
    "* Percentage and Count of Male Players\n",
    "\n",
    "\n",
    "* Percentage and Count of Female Players\n",
    "\n",
    "\n",
    "* Percentage and Count of Other / Non-Disclosed\n"
   ]
  },
  {
   "cell_type": "code",
   "execution_count": 19,
   "metadata": {},
   "outputs": [
    {
     "output_type": "execute_result",
     "data": {
      "text/plain": "                       Total Count Percentage of Players\nMale                           484                84.03%\nFemale                          81                14.06%\nOther / Non-Disclosed           11                 1.91%",
      "text/html": "<div>\n<style scoped>\n    .dataframe tbody tr th:only-of-type {\n        vertical-align: middle;\n    }\n\n    .dataframe tbody tr th {\n        vertical-align: top;\n    }\n\n    .dataframe thead th {\n        text-align: right;\n    }\n</style>\n<table border=\"1\" class=\"dataframe\">\n  <thead>\n    <tr style=\"text-align: right;\">\n      <th></th>\n      <th>Total Count</th>\n      <th>Percentage of Players</th>\n    </tr>\n  </thead>\n  <tbody>\n    <tr>\n      <th>Male</th>\n      <td>484</td>\n      <td>84.03%</td>\n    </tr>\n    <tr>\n      <th>Female</th>\n      <td>81</td>\n      <td>14.06%</td>\n    </tr>\n    <tr>\n      <th>Other / Non-Disclosed</th>\n      <td>11</td>\n      <td>1.91%</td>\n    </tr>\n  </tbody>\n</table>\n</div>"
     },
     "metadata": {},
     "execution_count": 19
    }
   ],
   "source": [
    "# First create a data frame that is groupby() gender\n",
    "gender_group_df = purchase_data.groupby(\"Gender\")\n",
    "\n",
    "# Find the number of unique screen names in each group of gender by using nunique(), whereas unique() would provide lists instead of numbers of unique entries per group\n",
    "unique_gender_group = gender_group_df[\"SN\"].nunique()\n",
    "\n",
    "# Calculate the percentage of each group by dividing by the total number of unique players we calculated earlier\n",
    "gender_percentage = unique_gender_group / total_unique_players * 100\n",
    "\n",
    "# Create a data frame to display findings\n",
    "gender_summary_df = pd.DataFrame({\"Total Count\" : unique_gender_group,\n",
    "                                  \"Percentage of Players\" : gender_percentage})\n",
    "\n",
    "# Format the data for cleaner appearance\n",
    "gender_summary_df[\"Percentage of Players\"] = gender_summary_df[\"Percentage of Players\"].map(\"{:.2f}%\".format)\n",
    "\n",
    "# Remove the name of the index\n",
    "gender_summary_df.index.name = None\n",
    "\n",
    "# Sort the values for the data frame in descending order based on percentage of players\n",
    "gender_summary_df = gender_summary_df.sort_values(\"Percentage of Players\", ascending = False)\n",
    "\n",
    "# Display the summary table\n",
    "gender_summary_df"
   ]
  },
  {
   "cell_type": "markdown",
   "metadata": {},
   "source": [
    "## Purchasing Analysis (Gender)\n",
    "\n",
    "* Run basic calculations to obtain the following by Gender:\n",
    "\n",
    "    * Purchase Count\n",
    "    * Average Purchase Price\n",
    "    * Total Purchase Value\n",
    "    * Average Purchase Total per Person\n",
    "\n",
    "* Create a summary data frame to hold the results\n",
    "\n",
    "\n",
    "* Optional: give the displayed data cleaner formatting\n",
    "\n",
    "\n",
    "* Display the summary data frame"
   ]
  },
  {
   "cell_type": "code",
   "execution_count": 20,
   "metadata": {},
   "outputs": [
    {
     "output_type": "execute_result",
     "data": {
      "text/plain": "                       Purchase Count Average Purchase Price  \\\nGender                                                         \nFemale                            113                  $3.20   \nMale                              652                  $3.02   \nOther / Non-Disclosed              15                  $3.35   \n\n                      Total Purchase Value Average Total Purchase per Person  \nGender                                                                        \nFemale                             $361.94                             $4.47  \nMale                             $1,967.64                             $4.07  \nOther / Non-Disclosed               $50.19                             $4.56  ",
      "text/html": "<div>\n<style scoped>\n    .dataframe tbody tr th:only-of-type {\n        vertical-align: middle;\n    }\n\n    .dataframe tbody tr th {\n        vertical-align: top;\n    }\n\n    .dataframe thead th {\n        text-align: right;\n    }\n</style>\n<table border=\"1\" class=\"dataframe\">\n  <thead>\n    <tr style=\"text-align: right;\">\n      <th></th>\n      <th>Purchase Count</th>\n      <th>Average Purchase Price</th>\n      <th>Total Purchase Value</th>\n      <th>Average Total Purchase per Person</th>\n    </tr>\n    <tr>\n      <th>Gender</th>\n      <th></th>\n      <th></th>\n      <th></th>\n      <th></th>\n    </tr>\n  </thead>\n  <tbody>\n    <tr>\n      <th>Female</th>\n      <td>113</td>\n      <td>$3.20</td>\n      <td>$361.94</td>\n      <td>$4.47</td>\n    </tr>\n    <tr>\n      <th>Male</th>\n      <td>652</td>\n      <td>$3.02</td>\n      <td>$1,967.64</td>\n      <td>$4.07</td>\n    </tr>\n    <tr>\n      <th>Other / Non-Disclosed</th>\n      <td>15</td>\n      <td>$3.35</td>\n      <td>$50.19</td>\n      <td>$4.56</td>\n    </tr>\n  </tbody>\n</table>\n</div>"
     },
     "metadata": {},
     "execution_count": 20
    }
   ],
   "source": [
    "# Calculate the purchase count by gender by using the count() function on the previously created gender_group_df\n",
    "gender_purchase_count = gender_group_df[\"Item Name\"].count()\n",
    "\n",
    "# Calculate the total purchase value by gender by using the sum() function\n",
    "gender_purchase_total = gender_group_df[\"Price\"].sum()\n",
    "\n",
    "# Calculate the average purchase price by gender\n",
    "average_gender_purchase_price = gender_group_df[\"Price\"].mean()\n",
    "\n",
    "# Calculate the average total purchase value per person by gender\n",
    "average_gender_total_purchase = gender_purchase_total / unique_gender_group\n",
    "\n",
    "# Create a data frame to display findings\n",
    "gender_purchase_summary_df = pd.DataFrame({\"Purchase Count\" : gender_purchase_count,\n",
    "                                           \"Average Purchase Price\" : average_gender_purchase_price,\n",
    "                                           \"Total Purchase Value\": gender_purchase_total,\n",
    "                                           \"Average Total Purchase per Person\" : average_gender_total_purchase})\n",
    "\n",
    "# Format the data for cleaner appearance\n",
    "# Use iloc() to select all the rows for columns that need to be formatted, then applymap() to format the entire selection\n",
    "gender_purchase_summary_df.iloc[ :, 1: ] = gender_purchase_summary_df.iloc[ : , 1:].applymap(\"${:,.2f}\".format)\n",
    "\n",
    "# Add the index name\n",
    "gender_purchase_summary_df.index.name = \"Gender\"\n",
    "\n",
    "# Display the summary table\n",
    "gender_purchase_summary_df\n"
   ]
  },
  {
   "cell_type": "markdown",
   "metadata": {},
   "source": [
    "## Age Demographics\n",
    "\n",
    "* Establish bins for ages\n",
    "\n",
    "    * Break down into bins of 4 years (i.e. <10, 10-14, 15-19, etc.) and calculate the following by age group:\n",
    "\n",
    "        * Purchase Count\n",
    "        * Average Purchase Price\n",
    "        * Total Purchase Value\n",
    "        * Average Purchase Total per Person\n",
    "\n",
    "* Categorize the existing players using the age bins. Hint: use pd.cut()\n",
    "\n",
    "\n",
    "* Calculate the numbers and percentages by age group\n",
    "\n",
    "\n",
    "* Create a summary data frame to hold the results\n",
    "\n",
    "\n",
    "* Optional: round the percentage column to two decimal points\n",
    "\n",
    "\n",
    "* Display Age Demographics Table"
   ]
  },
  {
   "cell_type": "code",
   "execution_count": 21,
   "metadata": {},
   "outputs": [
    {
     "output_type": "execute_result",
     "data": {
      "text/plain": "       Total Count Percentage of Players\n< 10            17                 2.95%\n10-14           22                 3.82%\n15-19          107                18.58%\n20-24          258                44.79%\n25-29           77                13.37%\n30-34           52                 9.03%\n35-39           31                 5.38%\n40+             12                 2.08%",
      "text/html": "<div>\n<style scoped>\n    .dataframe tbody tr th:only-of-type {\n        vertical-align: middle;\n    }\n\n    .dataframe tbody tr th {\n        vertical-align: top;\n    }\n\n    .dataframe thead th {\n        text-align: right;\n    }\n</style>\n<table border=\"1\" class=\"dataframe\">\n  <thead>\n    <tr style=\"text-align: right;\">\n      <th></th>\n      <th>Total Count</th>\n      <th>Percentage of Players</th>\n    </tr>\n  </thead>\n  <tbody>\n    <tr>\n      <th>&lt; 10</th>\n      <td>17</td>\n      <td>2.95%</td>\n    </tr>\n    <tr>\n      <th>10-14</th>\n      <td>22</td>\n      <td>3.82%</td>\n    </tr>\n    <tr>\n      <th>15-19</th>\n      <td>107</td>\n      <td>18.58%</td>\n    </tr>\n    <tr>\n      <th>20-24</th>\n      <td>258</td>\n      <td>44.79%</td>\n    </tr>\n    <tr>\n      <th>25-29</th>\n      <td>77</td>\n      <td>13.37%</td>\n    </tr>\n    <tr>\n      <th>30-34</th>\n      <td>52</td>\n      <td>9.03%</td>\n    </tr>\n    <tr>\n      <th>35-39</th>\n      <td>31</td>\n      <td>5.38%</td>\n    </tr>\n    <tr>\n      <th>40+</th>\n      <td>12</td>\n      <td>2.08%</td>\n    </tr>\n  </tbody>\n</table>\n</div>"
     },
     "metadata": {},
     "execution_count": 21
    }
   ],
   "source": [
    "# Create bins of 4 years\n",
    "# By using purchase_data[\"Age\"].min() and purchase_data[\"Age\"].max() we can see the lowest and highest values to help us set the bins lower and upper bounds\n",
    "age_bins = [5, 9, 14, 19, 24, 29, 34, 39, 50]\n",
    "\n",
    "# Create labels for the groups\n",
    "age_group_labels = [\"< 10\", \"10-14\", \"15-19\", \"20-24\", \"25-29\", \"30-34\", \"35-39\", \"40+\"]\n",
    "\n",
    "# Create a copy of the purchase_data data frame so we can keep a separate data frame to work with\n",
    "# Use pd.cut() to categorize the ages of players into the group labels and add them to a new column\n",
    "age_df = purchase_data.copy()\n",
    "age_df[\"Age Groups\"] = pd.cut(age_df[\"Age\"], age_bins, labels = age_group_labels)\n",
    "\n",
    "# Group the dataframe by the new Age Group column\n",
    "# Find the number of unique screen names in each group\n",
    "age_group = age_df.groupby(\"Age Groups\")\n",
    "age_group_unique = age_group[\"SN\"].nunique()\n",
    "\n",
    "# Calculate the percentage of each group of players from total unique players\n",
    "age_group_percentage = age_group_unique / total_unique_players * 100\n",
    "\n",
    "# Create a summary table to display findings\n",
    "age_group_summary_df = pd.DataFrame({\"Total Count\" : age_group_unique,\n",
    "                                     \"Percentage of Players\" : age_group_percentage})\n",
    "\n",
    "# Remove the name of the index\n",
    "age_group_summary_df.index.name = None\n",
    "\n",
    "# Format the data for cleaner appearance\n",
    "age_group_summary_df[\"Percentage of Players\"] = age_group_summary_df[\"Percentage of Players\"].map(\"{:.2f}%\".format)\n",
    "\n",
    "# Display the summary table\n",
    "age_group_summary_df"
   ]
  },
  {
   "cell_type": "markdown",
   "metadata": {},
   "source": [
    "## Purchasing Analysis (Age)\n",
    "\n",
    "* Bin the purchase_data data frame by age\n",
    "\n",
    "\n",
    "* Run basic calculations to obtain the following by age group:\n",
    "\n",
    "    * Purchase Count\n",
    "    * Average Purchase Price\n",
    "    * Total Purchase Value\n",
    "    * Average Purchase Total per Person\n",
    "\n",
    "\n",
    "* Create a summary data frame to hold the results\n",
    "\n",
    "\n",
    "* Optional: give the displayed data cleaner formatting\n",
    "\n",
    "\n",
    "* Display the summary data frame"
   ]
  },
  {
   "cell_type": "code",
   "execution_count": 22,
   "metadata": {},
   "outputs": [
    {
     "output_type": "execute_result",
     "data": {
      "text/plain": "            Purchase Count Average Purchase Price Total Purchase Value  \\\nAge Ranges                                                               \n< 10                    23                  $3.35               $77.13   \n10-14                   28                  $2.96               $82.78   \n15-19                  136                  $3.04              $412.89   \n20-24                  365                  $3.05            $1,114.06   \n25-29                  101                  $2.90              $293.00   \n30-34                   73                  $2.93              $214.00   \n35-39                   41                  $3.60              $147.67   \n40+                     13                  $2.94               $38.24   \n\n           Average Total Purchase per Person  \nAge Ranges                                    \n< 10                                   $4.54  \n10-14                                  $3.76  \n15-19                                  $3.86  \n20-24                                  $4.32  \n25-29                                  $3.81  \n30-34                                  $4.12  \n35-39                                  $4.76  \n40+                                    $3.19  ",
      "text/html": "<div>\n<style scoped>\n    .dataframe tbody tr th:only-of-type {\n        vertical-align: middle;\n    }\n\n    .dataframe tbody tr th {\n        vertical-align: top;\n    }\n\n    .dataframe thead th {\n        text-align: right;\n    }\n</style>\n<table border=\"1\" class=\"dataframe\">\n  <thead>\n    <tr style=\"text-align: right;\">\n      <th></th>\n      <th>Purchase Count</th>\n      <th>Average Purchase Price</th>\n      <th>Total Purchase Value</th>\n      <th>Average Total Purchase per Person</th>\n    </tr>\n    <tr>\n      <th>Age Ranges</th>\n      <th></th>\n      <th></th>\n      <th></th>\n      <th></th>\n    </tr>\n  </thead>\n  <tbody>\n    <tr>\n      <th>&lt; 10</th>\n      <td>23</td>\n      <td>$3.35</td>\n      <td>$77.13</td>\n      <td>$4.54</td>\n    </tr>\n    <tr>\n      <th>10-14</th>\n      <td>28</td>\n      <td>$2.96</td>\n      <td>$82.78</td>\n      <td>$3.76</td>\n    </tr>\n    <tr>\n      <th>15-19</th>\n      <td>136</td>\n      <td>$3.04</td>\n      <td>$412.89</td>\n      <td>$3.86</td>\n    </tr>\n    <tr>\n      <th>20-24</th>\n      <td>365</td>\n      <td>$3.05</td>\n      <td>$1,114.06</td>\n      <td>$4.32</td>\n    </tr>\n    <tr>\n      <th>25-29</th>\n      <td>101</td>\n      <td>$2.90</td>\n      <td>$293.00</td>\n      <td>$3.81</td>\n    </tr>\n    <tr>\n      <th>30-34</th>\n      <td>73</td>\n      <td>$2.93</td>\n      <td>$214.00</td>\n      <td>$4.12</td>\n    </tr>\n    <tr>\n      <th>35-39</th>\n      <td>41</td>\n      <td>$3.60</td>\n      <td>$147.67</td>\n      <td>$4.76</td>\n    </tr>\n    <tr>\n      <th>40+</th>\n      <td>13</td>\n      <td>$2.94</td>\n      <td>$38.24</td>\n      <td>$3.19</td>\n    </tr>\n  </tbody>\n</table>\n</div>"
     },
     "metadata": {},
     "execution_count": 22
    }
   ],
   "source": [
    "# Calculate the purchase count by age group by using the count() function on the previously created age_group\n",
    "age_purchase_count = age_group[\"Item Name\"].count()\n",
    "\n",
    "# Calculate the total purchase value by age group by using the sum() function\n",
    "age_purchase_total = age_group[\"Price\"].sum()\n",
    "\n",
    "# Calculate the average purchase price by age group\n",
    "average_age_purchase_price = age_group[\"Price\"].mean()\n",
    "\n",
    "# Calculate the average total purchase value per person by age group\n",
    "average_age_total_purchase = age_purchase_total / age_group_unique\n",
    "\n",
    "# Create a data frame to display findings\n",
    "age_purchase_summary_df = pd.DataFrame({\"Purchase Count\" : age_purchase_count,\n",
    "                                           \"Average Purchase Price\" : average_age_purchase_price,\n",
    "                                           \"Total Purchase Value\": age_purchase_total,\n",
    "                                           \"Average Total Purchase per Person\" : average_age_total_purchase})\n",
    "\n",
    "# Format the data for cleaner appearance\n",
    "# Use iloc() to select all the rows for columns that need to be formatted, then applymap() to format the entire selection\n",
    "age_purchase_summary_df.iloc[ :, 1: ] = age_purchase_summary_df.iloc[ : , 1:].applymap(\"${:,.2f}\".format)\n",
    "\n",
    "# Add the index name\n",
    "age_purchase_summary_df.index.name = \"Age Ranges\"\n",
    "\n",
    "# Display the summary table\n",
    "age_purchase_summary_df"
   ]
  },
  {
   "cell_type": "markdown",
   "metadata": {},
   "source": [
    "## Top Spenders\n",
    "\n",
    "* Identify the the top 5 spenders in the game by total purchase value, then list (in a table):\n",
    "\n",
    "    * SN\n",
    "    * Purchase Count\n",
    "    * Average Purchase Price\n",
    "    * Total Purchase Value\n",
    "\n",
    "* Sort the total purchase value column in descending order\n",
    "\n",
    "\n",
    "* Optional: give the displayed data cleaner formatting\n",
    "\n",
    "\n",
    "* Display a preview of the summary data frame"
   ]
  },
  {
   "cell_type": "code",
   "execution_count": 23,
   "metadata": {},
   "outputs": [
    {
     "output_type": "execute_result",
     "data": {
      "text/plain": "             Purchase Count Average Purchase Price Total Purchase Value\nSN                                                                     \nLisosia93                 5                  $3.79               $18.96\nIdastidru52               4                  $3.86               $15.45\nChamjask73                3                  $4.61               $13.83\nIral74                    4                  $3.40               $13.62\nIskadarya95               3                  $4.37               $13.10",
      "text/html": "<div>\n<style scoped>\n    .dataframe tbody tr th:only-of-type {\n        vertical-align: middle;\n    }\n\n    .dataframe tbody tr th {\n        vertical-align: top;\n    }\n\n    .dataframe thead th {\n        text-align: right;\n    }\n</style>\n<table border=\"1\" class=\"dataframe\">\n  <thead>\n    <tr style=\"text-align: right;\">\n      <th></th>\n      <th>Purchase Count</th>\n      <th>Average Purchase Price</th>\n      <th>Total Purchase Value</th>\n    </tr>\n    <tr>\n      <th>SN</th>\n      <th></th>\n      <th></th>\n      <th></th>\n    </tr>\n  </thead>\n  <tbody>\n    <tr>\n      <th>Lisosia93</th>\n      <td>5</td>\n      <td>$3.79</td>\n      <td>$18.96</td>\n    </tr>\n    <tr>\n      <th>Idastidru52</th>\n      <td>4</td>\n      <td>$3.86</td>\n      <td>$15.45</td>\n    </tr>\n    <tr>\n      <th>Chamjask73</th>\n      <td>3</td>\n      <td>$4.61</td>\n      <td>$13.83</td>\n    </tr>\n    <tr>\n      <th>Iral74</th>\n      <td>4</td>\n      <td>$3.40</td>\n      <td>$13.62</td>\n    </tr>\n    <tr>\n      <th>Iskadarya95</th>\n      <td>3</td>\n      <td>$4.37</td>\n      <td>$13.10</td>\n    </tr>\n  </tbody>\n</table>\n</div>"
     },
     "metadata": {},
     "execution_count": 23
    }
   ],
   "source": [
    "# Group the purchase_data data frame by screen name\n",
    "top_spenders = purchase_data.groupby(\"SN\")\n",
    "\n",
    "# Sum each screen name by price to get total purchase value\n",
    "top_spenders_price = top_spenders[\"Price\"].sum()\n",
    "\n",
    "# Count the number of purchases per screen name\n",
    "top_spenders_count = top_spenders[\"Purchase ID\"].count()\n",
    "\n",
    "# Calculate the average purchase price, use top_spenders_count as the average is dependent on the number of items each person bought\n",
    "top_spenders_average_price = top_spenders[\"Price\"].mean()\n",
    "\n",
    "# Create a data frame to display the findings\n",
    "top_spenders_summary_df = pd.DataFrame({\"Purchase Count\" : top_spenders_count,\n",
    "                                        \"Average Purchase Price\" : top_spenders_average_price,\n",
    "                                        \"Total Purchase Value\": top_spenders_price})\n",
    "\n",
    "# Sort the values of Total Purchase Value in descending order\n",
    "top_spenders_summary_df = top_spenders_summary_df.sort_values(\"Total Purchase Value\", ascending = False)\n",
    "\n",
    "# Format the data for cleaner appearance\n",
    "top_spenders_summary_df.iloc[ : , 1: ] = top_spenders_summary_df.iloc[ : , 1: ].applymap(\"${:,.2f}\".format)\n",
    "\n",
    "# Display the summary table\n",
    "top_spenders_summary_df.head()\n"
   ]
  },
  {
   "cell_type": "markdown",
   "metadata": {},
   "source": [
    "## Most Popular Items\n",
    "\n",
    "* Retrieve the Item ID, Item Name, and Item Price columns\n",
    "\n",
    "* Group by Item ID and Item Name. Perform calculations to obtain the following:\n",
    "\n",
    "    * Item ID\n",
    "    * Item Name\n",
    "    * Purchase Count\n",
    "    * Item Price\n",
    "    * Total Purchase Value\n",
    "\n",
    "* Create a summary data frame to hold the results\n",
    "\n",
    "\n",
    "* Sort the purchase count column in descending order\n",
    "\n",
    "\n",
    "* Optional: give the displayed data cleaner formatting\n",
    "\n",
    "\n",
    "* Display a preview of the summary data frame\n",
    "\n"
   ]
  },
  {
   "cell_type": "code",
   "execution_count": 24,
   "metadata": {},
   "outputs": [
    {
     "output_type": "execute_result",
     "data": {
      "text/plain": "                                                      Purchase Count  \\\nItem ID Item Name                                                      \n92      Final Critic                                              13   \n178     Oathbreaker, Last Hope of the Breaking Storm              12   \n145     Fiery Glass Crusader                                       9   \n132     Persuasion                                                 9   \n108     Extraction, Quickblade Of Trembling Hands                  9   \n\n                                                     Item Price  \\\nItem ID Item Name                                                 \n92      Final Critic                                      $4.61   \n178     Oathbreaker, Last Hope of the Breaking Storm      $4.23   \n145     Fiery Glass Crusader                              $4.58   \n132     Persuasion                                        $3.22   \n108     Extraction, Quickblade Of Trembling Hands         $3.53   \n\n                                                     Total Purchase Value  \nItem ID Item Name                                                          \n92      Final Critic                                               $59.99  \n178     Oathbreaker, Last Hope of the Breaking Storm               $50.76  \n145     Fiery Glass Crusader                                       $41.22  \n132     Persuasion                                                 $28.99  \n108     Extraction, Quickblade Of Trembling Hands                  $31.77  ",
      "text/html": "<div>\n<style scoped>\n    .dataframe tbody tr th:only-of-type {\n        vertical-align: middle;\n    }\n\n    .dataframe tbody tr th {\n        vertical-align: top;\n    }\n\n    .dataframe thead th {\n        text-align: right;\n    }\n</style>\n<table border=\"1\" class=\"dataframe\">\n  <thead>\n    <tr style=\"text-align: right;\">\n      <th></th>\n      <th></th>\n      <th>Purchase Count</th>\n      <th>Item Price</th>\n      <th>Total Purchase Value</th>\n    </tr>\n    <tr>\n      <th>Item ID</th>\n      <th>Item Name</th>\n      <th></th>\n      <th></th>\n      <th></th>\n    </tr>\n  </thead>\n  <tbody>\n    <tr>\n      <th>92</th>\n      <th>Final Critic</th>\n      <td>13</td>\n      <td>$4.61</td>\n      <td>$59.99</td>\n    </tr>\n    <tr>\n      <th>178</th>\n      <th>Oathbreaker, Last Hope of the Breaking Storm</th>\n      <td>12</td>\n      <td>$4.23</td>\n      <td>$50.76</td>\n    </tr>\n    <tr>\n      <th>145</th>\n      <th>Fiery Glass Crusader</th>\n      <td>9</td>\n      <td>$4.58</td>\n      <td>$41.22</td>\n    </tr>\n    <tr>\n      <th>132</th>\n      <th>Persuasion</th>\n      <td>9</td>\n      <td>$3.22</td>\n      <td>$28.99</td>\n    </tr>\n    <tr>\n      <th>108</th>\n      <th>Extraction, Quickblade Of Trembling Hands</th>\n      <td>9</td>\n      <td>$3.53</td>\n      <td>$31.77</td>\n    </tr>\n  </tbody>\n</table>\n</div>"
     },
     "metadata": {},
     "execution_count": 24
    }
   ],
   "source": [
    "# Group by Item ID and Item Name\n",
    "item_group = purchase_data.groupby([\"Item ID\", \"Item Name\"])\n",
    "\n",
    "# Calculate the number of times each item was purchased\n",
    "item_group_count = item_group[\"SN\"].count()\n",
    "\n",
    "# Use sum() to find the total purchase value of each item as the purchase price varies\n",
    "item_group_value = item_group[\"Price\"].sum()\n",
    "\n",
    "# Calculate the item price by averaging the total purchase value\n",
    "item_group_price = item_group_value / item_group_count\n",
    "\n",
    "# Create a data frame to display the findings\n",
    "item_group_summary_df = pd.DataFrame({\"Purchase Count\" : item_group_count,\n",
    "                                      \"Item Price\" : item_group_price,\n",
    "                                      \"Total Purchase Value\": item_group_value})\n",
    "\n",
    "# Sort the values of Purchase Count in descending order\n",
    "item_group_summary_df = item_group_summary_df.sort_values(\"Purchase Count\", ascending = False)\n",
    "\n",
    "# Format the data for cleaner appearance\n",
    "item_group_summary_df.iloc[ : , 1: ] = item_group_summary_df.iloc[ : , 1: ].applymap(\"${:,.2f}\".format)\n",
    "\n",
    "#Display the summary table\n",
    "item_group_summary_df.head()"
   ]
  },
  {
   "cell_type": "markdown",
   "metadata": {},
   "source": [
    "## Most Profitable Items\n",
    "\n",
    "* Sort the above table by total purchase value in descending order\n",
    "\n",
    "\n",
    "* Optional: give the displayed data cleaner formatting\n",
    "\n",
    "\n",
    "* Display a preview of the data frame"
   ]
  },
  {
   "cell_type": "code",
   "execution_count": 25,
   "metadata": {},
   "outputs": [
    {
     "output_type": "execute_result",
     "data": {
      "text/plain": "                                                      Purchase Count  \\\nItem ID Item Name                                                      \n92      Final Critic                                              13   \n178     Oathbreaker, Last Hope of the Breaking Storm              12   \n82      Nirvana                                                    9   \n145     Fiery Glass Crusader                                       9   \n103     Singed Scalpel                                             8   \n\n                                                     Item Price  \\\nItem ID Item Name                                                 \n92      Final Critic                                      $4.61   \n178     Oathbreaker, Last Hope of the Breaking Storm      $4.23   \n82      Nirvana                                           $4.90   \n145     Fiery Glass Crusader                              $4.58   \n103     Singed Scalpel                                    $4.35   \n\n                                                     Total Purchase Value  \nItem ID Item Name                                                          \n92      Final Critic                                               $59.99  \n178     Oathbreaker, Last Hope of the Breaking Storm               $50.76  \n82      Nirvana                                                    $44.10  \n145     Fiery Glass Crusader                                       $41.22  \n103     Singed Scalpel                                             $34.80  ",
      "text/html": "<div>\n<style scoped>\n    .dataframe tbody tr th:only-of-type {\n        vertical-align: middle;\n    }\n\n    .dataframe tbody tr th {\n        vertical-align: top;\n    }\n\n    .dataframe thead th {\n        text-align: right;\n    }\n</style>\n<table border=\"1\" class=\"dataframe\">\n  <thead>\n    <tr style=\"text-align: right;\">\n      <th></th>\n      <th></th>\n      <th>Purchase Count</th>\n      <th>Item Price</th>\n      <th>Total Purchase Value</th>\n    </tr>\n    <tr>\n      <th>Item ID</th>\n      <th>Item Name</th>\n      <th></th>\n      <th></th>\n      <th></th>\n    </tr>\n  </thead>\n  <tbody>\n    <tr>\n      <th>92</th>\n      <th>Final Critic</th>\n      <td>13</td>\n      <td>$4.61</td>\n      <td>$59.99</td>\n    </tr>\n    <tr>\n      <th>178</th>\n      <th>Oathbreaker, Last Hope of the Breaking Storm</th>\n      <td>12</td>\n      <td>$4.23</td>\n      <td>$50.76</td>\n    </tr>\n    <tr>\n      <th>82</th>\n      <th>Nirvana</th>\n      <td>9</td>\n      <td>$4.90</td>\n      <td>$44.10</td>\n    </tr>\n    <tr>\n      <th>145</th>\n      <th>Fiery Glass Crusader</th>\n      <td>9</td>\n      <td>$4.58</td>\n      <td>$41.22</td>\n    </tr>\n    <tr>\n      <th>103</th>\n      <th>Singed Scalpel</th>\n      <td>8</td>\n      <td>$4.35</td>\n      <td>$34.80</td>\n    </tr>\n  </tbody>\n</table>\n</div>"
     },
     "metadata": {},
     "execution_count": 25
    }
   ],
   "source": [
    "# Create a data frame to display the findings\n",
    "most_profitable_summary_df = pd.DataFrame({\"Purchase Count\" : item_group_count,\n",
    "                                      \"Item Price\" : item_group_price,\n",
    "                                      \"Total Purchase Value\": item_group_value})\n",
    "\n",
    "# Sort by Purchase Value in descending order\n",
    "most_profitable_summary_df = most_profitable_summary_df.sort_values(\"Total Purchase Value\", ascending = False)\n",
    "\n",
    "# Format the data for cleaner appearance\n",
    "most_profitable_summary_df.iloc[ : , 1: ] = most_profitable_summary_df.iloc[ : , 1: ].applymap(\"${:,.2f}\".format)\n",
    "\n",
    "#Display the summary table\n",
    "most_profitable_summary_df.head()"
   ]
  },
  {
   "cell_type": "code",
   "execution_count": null,
   "metadata": {},
   "outputs": [],
   "source": []
  }
 ],
 "metadata": {
  "language_info": {
   "codemirror_mode": {
    "name": "ipython",
    "version": 3
   },
   "file_extension": ".py",
   "mimetype": "text/x-python",
   "name": "python",
   "nbconvert_exporter": "python",
   "pygments_lexer": "ipython3",
   "version": 3
  },
  "orig_nbformat": 2,
  "kernelspec": {
   "name": "python_defaultSpec_1593240300367",
   "display_name": "Python 3.7.6 64-bit ('base': conda)"
  }
 },
 "nbformat": 4,
 "nbformat_minor": 2
}